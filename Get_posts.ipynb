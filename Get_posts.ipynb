{
 "cells": [
  {
   "cell_type": "markdown",
   "id": "b1747829",
   "metadata": {},
   "source": [
    "## Import libraries"
   ]
  },
  {
   "cell_type": "code",
   "execution_count": 4,
   "id": "47b17dc1",
   "metadata": {
    "tags": []
   },
   "outputs": [],
   "source": [
    "import pandas as pd \n",
    "import time  \n",
    "import requests \n",
    "from nltk.tokenize import sent_tokenize, word_tokenize, RegexpTokenizer \n",
    "from nltk.stem import WordNetLemmatizer\n",
    "from nltk.stem.porter import PorterStemmer  \n",
    "from nltk.corpus import stopwords  \n",
    "from nltk.sentiment.vader import SentimentIntensityAnalyzer \n",
    "from sklearn.model_selection import train_test_split, GridSearchCV \n",
    "import matplotlib.pyplot as plt\n",
    "from sklearn.pipeline import Pipeline\n",
    "from sklearn.naive_bayes import MultinomialNB\n",
    "from sklearn.linear_model import LogisticRegression\n",
    "from sklearn.metrics import confusion_matrix, plot_confusion_matrix\n",
    "from sklearn.feature_extraction.text import CountVectorizer, TfidfVectorizer\n",
    "import re"
   ]
  },
  {
   "cell_type": "markdown",
   "id": "02b65924-b76c-4af5-b3e9-021fe618a8b8",
   "metadata": {},
   "source": [
    "#### Define a function to get posts from Reddit website (5000 posts, 50 posts each round, 100 rounds)"
   ]
  },
  {
   "cell_type": "code",
   "execution_count": 5,
   "id": "5932db34",
   "metadata": {},
   "outputs": [],
   "source": [
    "def get_posts(subreddit):\n",
    "    before = None \n",
    "    posts=[] #list to save the posts\n",
    "    for i in range (100) : #100 rounds, each round we got 50 posts\n",
    "#define the parameters, the name of subreddit, number of posts, the time to bring the posts posted before it, the sorting mehtod\n",
    "        params = { 'subreddit': subreddit, 'size' : 50, 'before' : before, 'sort':'desc' , 'sort_type':'created_utc'} \n",
    "#get 50 posts that's been created  before \"before\" data and sort them from the newest to the latest posts\n",
    "        req = requests.get(\"https://api.pushshift.io/reddit/search/submission\",params) \n",
    "        mine = req.json()['data']\n",
    "        df = pd.DataFrame.from_dict(mine) #save the posts in a dataframe\n",
    "        posts.append(df) #add the 50 post to the posts list\n",
    "        for post in mine: # to get the created data of the oldest post over the 50 posts\n",
    "#set before to the data of the oldest posts to make sure that each time we get 50 different posts from the last time\n",
    "            before = post ['created_utc'] \n",
    "        time.sleep(2) #wait for 2 seconds before fetching another 50 posts\n",
    "    group_posts = pd.concat(posts, sort=False) # save the 5000 posts in a dataframe \n",
    "    return group_posts"
   ]
  },
  {
   "cell_type": "markdown",
   "id": "e3c09fe3-b91d-4d05-b733-94f0ca3b5443",
   "metadata": {},
   "source": [
    "#### Get 5000 different post from nutrition subreddit and 5000 different posts from keto subreddit"
   ]
  },
  {
   "cell_type": "code",
   "execution_count": 6,
   "id": "74cfdebc",
   "metadata": {
    "tags": []
   },
   "outputs": [
    {
     "data": {
      "text/plain": [
       "(5000, 74)"
      ]
     },
     "execution_count": 6,
     "metadata": {},
     "output_type": "execute_result"
    }
   ],
   "source": [
    "group1 = get_posts('nutrition')\n",
    "#to make sure we got 5000 posts \n",
    "group1 .shape "
   ]
  },
  {
   "cell_type": "code",
   "execution_count": 10,
   "id": "d18c5c0f-dfc8-45c5-8525-ab82ec426efa",
   "metadata": {},
   "outputs": [
    {
     "data": {
      "text/plain": [
       "5000"
      ]
     },
     "execution_count": 10,
     "metadata": {},
     "output_type": "execute_result"
    }
   ],
   "source": [
    "# to make sure we got 5000 different posts (each post has it is own id)\n",
    "len(group1['id'].unique()) "
   ]
  },
  {
   "cell_type": "code",
   "execution_count": 7,
   "id": "f6d05d03-3419-4c6b-9271-0784437de209",
   "metadata": {},
   "outputs": [
    {
     "data": {
      "text/plain": [
       "(5000, 77)"
      ]
     },
     "execution_count": 7,
     "metadata": {},
     "output_type": "execute_result"
    }
   ],
   "source": [
    "group2 = get_posts('keto')\n",
    "group2 .shape "
   ]
  },
  {
   "cell_type": "code",
   "execution_count": 8,
   "id": "2c633fd8-ce7d-481b-8554-f2d387caace8",
   "metadata": {},
   "outputs": [
    {
     "data": {
      "text/plain": [
       "5000"
      ]
     },
     "execution_count": 8,
     "metadata": {},
     "output_type": "execute_result"
    }
   ],
   "source": [
    "len(group2['id'].unique())"
   ]
  },
  {
   "cell_type": "markdown",
   "id": "7e65d341-270d-4050-b804-560ebdf928ce",
   "metadata": {},
   "source": [
    "#### Merge the two group together in one dataframe and extract only the needed columns from the dictionary"
   ]
  },
  {
   "cell_type": "code",
   "execution_count": 15,
   "id": "dff7bee7-c067-49e9-9efb-e57108a8d2ab",
   "metadata": {},
   "outputs": [],
   "source": [
    "SUBFIELDS = ['id','title', 'selftext', 'subreddit'] # we only need the post id, titile, selftext and subreddit\n",
    "\n",
    "Final_group = [group1, group2] #merge the twp groups \n",
    "Final_group = pd.concat(Final_group)\n",
    "Final_group = Final_group[SUBFIELDS] #extract the needed features only"
   ]
  },
  {
   "cell_type": "code",
   "execution_count": 16,
   "id": "91363dee",
   "metadata": {},
   "outputs": [
    {
     "data": {
      "text/html": [
       "<div>\n",
       "<style scoped>\n",
       "    .dataframe tbody tr th:only-of-type {\n",
       "        vertical-align: middle;\n",
       "    }\n",
       "\n",
       "    .dataframe tbody tr th {\n",
       "        vertical-align: top;\n",
       "    }\n",
       "\n",
       "    .dataframe thead th {\n",
       "        text-align: right;\n",
       "    }\n",
       "</style>\n",
       "<table border=\"1\" class=\"dataframe\">\n",
       "  <thead>\n",
       "    <tr style=\"text-align: right;\">\n",
       "      <th></th>\n",
       "      <th>id</th>\n",
       "      <th>title</th>\n",
       "      <th>selftext</th>\n",
       "      <th>subreddit</th>\n",
       "    </tr>\n",
       "  </thead>\n",
       "  <tbody>\n",
       "    <tr>\n",
       "      <th>0</th>\n",
       "      <td>q4dgzo</td>\n",
       "      <td>Vitamin B differences</td>\n",
       "      <td>Are there any noticeable differences between V...</td>\n",
       "      <td>nutrition</td>\n",
       "    </tr>\n",
       "    <tr>\n",
       "      <th>1</th>\n",
       "      <td>q4cvw0</td>\n",
       "      <td>Does a high protein diet cause weight loss?</td>\n",
       "      <td>[removed]</td>\n",
       "      <td>nutrition</td>\n",
       "    </tr>\n",
       "    <tr>\n",
       "      <th>2</th>\n",
       "      <td>q4chsw</td>\n",
       "      <td>Irritable Bowel Syndrome: Causes, Symptoms, Me...</td>\n",
       "      <td>Frequently abdominal pain, bloating, diarrhea ...</td>\n",
       "      <td>nutrition</td>\n",
       "    </tr>\n",
       "    <tr>\n",
       "      <th>3</th>\n",
       "      <td>q4bo66</td>\n",
       "      <td>Can anyone help me with figuring out how to re...</td>\n",
       "      <td>[removed]</td>\n",
       "      <td>nutrition</td>\n",
       "    </tr>\n",
       "    <tr>\n",
       "      <th>4</th>\n",
       "      <td>q4baia</td>\n",
       "      <td>Questions about Soaking/Sprouting Grains and F...</td>\n",
       "      <td>My head is bogged down with conflicting pieces...</td>\n",
       "      <td>nutrition</td>\n",
       "    </tr>\n",
       "    <tr>\n",
       "      <th>5</th>\n",
       "      <td>q47q5j</td>\n",
       "      <td>I haven’t eaten for a few days (advice)</td>\n",
       "      <td>[removed]</td>\n",
       "      <td>nutrition</td>\n",
       "    </tr>\n",
       "    <tr>\n",
       "      <th>6</th>\n",
       "      <td>q47eb1</td>\n",
       "      <td>How much white rice per day can one safely con...</td>\n",
       "      <td>[removed]</td>\n",
       "      <td>nutrition</td>\n",
       "    </tr>\n",
       "    <tr>\n",
       "      <th>7</th>\n",
       "      <td>q468hg</td>\n",
       "      <td>How much protein can the body absorb over seve...</td>\n",
       "      <td>If someone were to practice intermittent fasti...</td>\n",
       "      <td>nutrition</td>\n",
       "    </tr>\n",
       "    <tr>\n",
       "      <th>8</th>\n",
       "      <td>q465dy</td>\n",
       "      <td>How much protein can your body absorb within s...</td>\n",
       "      <td>[removed]</td>\n",
       "      <td>nutrition</td>\n",
       "    </tr>\n",
       "    <tr>\n",
       "      <th>9</th>\n",
       "      <td>q45d1g</td>\n",
       "      <td>Has anyone tried Lyma Life supplements?</td>\n",
       "      <td>Hello everyone, I wanted to ask if anyone of y...</td>\n",
       "      <td>nutrition</td>\n",
       "    </tr>\n",
       "  </tbody>\n",
       "</table>\n",
       "</div>"
      ],
      "text/plain": [
       "       id                                              title  \\\n",
       "0  q4dgzo                              Vitamin B differences   \n",
       "1  q4cvw0        Does a high protein diet cause weight loss?   \n",
       "2  q4chsw  Irritable Bowel Syndrome: Causes, Symptoms, Me...   \n",
       "3  q4bo66  Can anyone help me with figuring out how to re...   \n",
       "4  q4baia  Questions about Soaking/Sprouting Grains and F...   \n",
       "5  q47q5j            I haven’t eaten for a few days (advice)   \n",
       "6  q47eb1  How much white rice per day can one safely con...   \n",
       "7  q468hg  How much protein can the body absorb over seve...   \n",
       "8  q465dy  How much protein can your body absorb within s...   \n",
       "9  q45d1g            Has anyone tried Lyma Life supplements?   \n",
       "\n",
       "                                            selftext  subreddit  \n",
       "0  Are there any noticeable differences between V...  nutrition  \n",
       "1                                          [removed]  nutrition  \n",
       "2  Frequently abdominal pain, bloating, diarrhea ...  nutrition  \n",
       "3                                          [removed]  nutrition  \n",
       "4  My head is bogged down with conflicting pieces...  nutrition  \n",
       "5                                          [removed]  nutrition  \n",
       "6                                          [removed]  nutrition  \n",
       "7  If someone were to practice intermittent fasti...  nutrition  \n",
       "8                                          [removed]  nutrition  \n",
       "9  Hello everyone, I wanted to ask if anyone of y...  nutrition  "
      ]
     },
     "execution_count": 16,
     "metadata": {},
     "output_type": "execute_result"
    }
   ],
   "source": [
    "#check the head of the final_group\n",
    "Final_group .head(10) "
   ]
  },
  {
   "cell_type": "code",
   "execution_count": 17,
   "id": "6c86b7c9-d691-444b-9772-90c5d2dba137",
   "metadata": {},
   "outputs": [
    {
     "data": {
      "text/html": [
       "<div>\n",
       "<style scoped>\n",
       "    .dataframe tbody tr th:only-of-type {\n",
       "        vertical-align: middle;\n",
       "    }\n",
       "\n",
       "    .dataframe tbody tr th {\n",
       "        vertical-align: top;\n",
       "    }\n",
       "\n",
       "    .dataframe thead th {\n",
       "        text-align: right;\n",
       "    }\n",
       "</style>\n",
       "<table border=\"1\" class=\"dataframe\">\n",
       "  <thead>\n",
       "    <tr style=\"text-align: right;\">\n",
       "      <th></th>\n",
       "      <th>id</th>\n",
       "      <th>title</th>\n",
       "      <th>selftext</th>\n",
       "      <th>subreddit</th>\n",
       "    </tr>\n",
       "  </thead>\n",
       "  <tbody>\n",
       "    <tr>\n",
       "      <th>40</th>\n",
       "      <td>otd2pp</td>\n",
       "      <td>Tryptophan supplement on keto + IF</td>\n",
       "      <td>I have a question about taking tryptophan supp...</td>\n",
       "      <td>keto</td>\n",
       "    </tr>\n",
       "    <tr>\n",
       "      <th>41</th>\n",
       "      <td>otcrwg</td>\n",
       "      <td>Best Coffee Creamer (imo)</td>\n",
       "      <td>My new obsession for coffee creamer is: 1 tbsp...</td>\n",
       "      <td>keto</td>\n",
       "    </tr>\n",
       "    <tr>\n",
       "      <th>42</th>\n",
       "      <td>otcnu0</td>\n",
       "      <td>Is it possible to smell your own ketones?</td>\n",
       "      <td>[removed]</td>\n",
       "      <td>keto</td>\n",
       "    </tr>\n",
       "    <tr>\n",
       "      <th>43</th>\n",
       "      <td>otcnsw</td>\n",
       "      <td>Random foods and ingredients taste sweeter?</td>\n",
       "      <td>Hello!! I’m fairly new to keto and have been o...</td>\n",
       "      <td>keto</td>\n",
       "    </tr>\n",
       "    <tr>\n",
       "      <th>44</th>\n",
       "      <td>otcmu6</td>\n",
       "      <td>How do you guys get your protein each day?</td>\n",
       "      <td>[removed]</td>\n",
       "      <td>keto</td>\n",
       "    </tr>\n",
       "    <tr>\n",
       "      <th>45</th>\n",
       "      <td>otcav1</td>\n",
       "      <td>Low Body Temperature Anyone?</td>\n",
       "      <td>So I have been on keto (on w/ breaks) for abou...</td>\n",
       "      <td>keto</td>\n",
       "    </tr>\n",
       "    <tr>\n",
       "      <th>46</th>\n",
       "      <td>otc7nr</td>\n",
       "      <td>How to start keto?</td>\n",
       "      <td>Are there any good resources on how to get sta...</td>\n",
       "      <td>keto</td>\n",
       "    </tr>\n",
       "    <tr>\n",
       "      <th>47</th>\n",
       "      <td>otbdrl</td>\n",
       "      <td>To whoever recommended a pinch of salt and cin...</td>\n",
       "      <td>[removed]</td>\n",
       "      <td>keto</td>\n",
       "    </tr>\n",
       "    <tr>\n",
       "      <th>48</th>\n",
       "      <td>otbdcl</td>\n",
       "      <td>Keto help :(</td>\n",
       "      <td>Hello everyone!\\n\\nMy fiance is diabetic and h...</td>\n",
       "      <td>keto</td>\n",
       "    </tr>\n",
       "    <tr>\n",
       "      <th>49</th>\n",
       "      <td>otbc47</td>\n",
       "      <td>Continue taking bhb after reaching ketosis?</td>\n",
       "      <td>[removed]</td>\n",
       "      <td>keto</td>\n",
       "    </tr>\n",
       "  </tbody>\n",
       "</table>\n",
       "</div>"
      ],
      "text/plain": [
       "        id                                              title  \\\n",
       "40  otd2pp                 Tryptophan supplement on keto + IF   \n",
       "41  otcrwg                          Best Coffee Creamer (imo)   \n",
       "42  otcnu0          Is it possible to smell your own ketones?   \n",
       "43  otcnsw        Random foods and ingredients taste sweeter?   \n",
       "44  otcmu6         How do you guys get your protein each day?   \n",
       "45  otcav1                       Low Body Temperature Anyone?   \n",
       "46  otc7nr                                 How to start keto?   \n",
       "47  otbdrl  To whoever recommended a pinch of salt and cin...   \n",
       "48  otbdcl                                       Keto help :(   \n",
       "49  otbc47        Continue taking bhb after reaching ketosis?   \n",
       "\n",
       "                                             selftext subreddit  \n",
       "40  I have a question about taking tryptophan supp...      keto  \n",
       "41  My new obsession for coffee creamer is: 1 tbsp...      keto  \n",
       "42                                          [removed]      keto  \n",
       "43  Hello!! I’m fairly new to keto and have been o...      keto  \n",
       "44                                          [removed]      keto  \n",
       "45  So I have been on keto (on w/ breaks) for abou...      keto  \n",
       "46  Are there any good resources on how to get sta...      keto  \n",
       "47                                          [removed]      keto  \n",
       "48  Hello everyone!\\n\\nMy fiance is diabetic and h...      keto  \n",
       "49                                          [removed]      keto  "
      ]
     },
     "execution_count": 17,
     "metadata": {},
     "output_type": "execute_result"
    }
   ],
   "source": [
    "#check the tail of the final group\n",
    "Final_group.tail(10) "
   ]
  },
  {
   "cell_type": "code",
   "execution_count": 20,
   "id": "ad08a3c7",
   "metadata": {},
   "outputs": [],
   "source": [
    "# add a lable 1 to the keto group and 0 to the nutrition group \n",
    "Final_group['label'] = Final_group['subreddit'].map(lambda x: 1 if x == 'keto'else 0) "
   ]
  },
  {
   "cell_type": "code",
   "execution_count": 21,
   "id": "f2feec35",
   "metadata": {},
   "outputs": [
    {
     "data": {
      "text/html": [
       "<div>\n",
       "<style scoped>\n",
       "    .dataframe tbody tr th:only-of-type {\n",
       "        vertical-align: middle;\n",
       "    }\n",
       "\n",
       "    .dataframe tbody tr th {\n",
       "        vertical-align: top;\n",
       "    }\n",
       "\n",
       "    .dataframe thead th {\n",
       "        text-align: right;\n",
       "    }\n",
       "</style>\n",
       "<table border=\"1\" class=\"dataframe\">\n",
       "  <thead>\n",
       "    <tr style=\"text-align: right;\">\n",
       "      <th></th>\n",
       "      <th>id</th>\n",
       "      <th>title</th>\n",
       "      <th>selftext</th>\n",
       "      <th>subreddit</th>\n",
       "      <th>label</th>\n",
       "    </tr>\n",
       "  </thead>\n",
       "  <tbody>\n",
       "    <tr>\n",
       "      <th>0</th>\n",
       "      <td>q4dgzo</td>\n",
       "      <td>Vitamin B differences</td>\n",
       "      <td>Are there any noticeable differences between V...</td>\n",
       "      <td>nutrition</td>\n",
       "      <td>0</td>\n",
       "    </tr>\n",
       "    <tr>\n",
       "      <th>1</th>\n",
       "      <td>q4cvw0</td>\n",
       "      <td>Does a high protein diet cause weight loss?</td>\n",
       "      <td>[removed]</td>\n",
       "      <td>nutrition</td>\n",
       "      <td>0</td>\n",
       "    </tr>\n",
       "    <tr>\n",
       "      <th>2</th>\n",
       "      <td>q4chsw</td>\n",
       "      <td>Irritable Bowel Syndrome: Causes, Symptoms, Me...</td>\n",
       "      <td>Frequently abdominal pain, bloating, diarrhea ...</td>\n",
       "      <td>nutrition</td>\n",
       "      <td>0</td>\n",
       "    </tr>\n",
       "    <tr>\n",
       "      <th>3</th>\n",
       "      <td>q4bo66</td>\n",
       "      <td>Can anyone help me with figuring out how to re...</td>\n",
       "      <td>[removed]</td>\n",
       "      <td>nutrition</td>\n",
       "      <td>0</td>\n",
       "    </tr>\n",
       "    <tr>\n",
       "      <th>4</th>\n",
       "      <td>q4baia</td>\n",
       "      <td>Questions about Soaking/Sprouting Grains and F...</td>\n",
       "      <td>My head is bogged down with conflicting pieces...</td>\n",
       "      <td>nutrition</td>\n",
       "      <td>0</td>\n",
       "    </tr>\n",
       "  </tbody>\n",
       "</table>\n",
       "</div>"
      ],
      "text/plain": [
       "       id                                              title  \\\n",
       "0  q4dgzo                              Vitamin B differences   \n",
       "1  q4cvw0        Does a high protein diet cause weight loss?   \n",
       "2  q4chsw  Irritable Bowel Syndrome: Causes, Symptoms, Me...   \n",
       "3  q4bo66  Can anyone help me with figuring out how to re...   \n",
       "4  q4baia  Questions about Soaking/Sprouting Grains and F...   \n",
       "\n",
       "                                            selftext  subreddit  label  \n",
       "0  Are there any noticeable differences between V...  nutrition      0  \n",
       "1                                          [removed]  nutrition      0  \n",
       "2  Frequently abdominal pain, bloating, diarrhea ...  nutrition      0  \n",
       "3                                          [removed]  nutrition      0  \n",
       "4  My head is bogged down with conflicting pieces...  nutrition      0  "
      ]
     },
     "execution_count": 21,
     "metadata": {},
     "output_type": "execute_result"
    }
   ],
   "source": [
    "Final_group.head() ##check the final group head after adding the lables "
   ]
  },
  {
   "cell_type": "markdown",
   "id": "b00c4d92",
   "metadata": {},
   "source": [
    "**we are going to pridect the subreddit that post came from baseed in the post title. we will not use the self text because it might contain image and video and it will be missing data.**"
   ]
  },
  {
   "cell_type": "code",
   "execution_count": 22,
   "id": "13b27d1f-af4c-4604-b75c-aff01624d5ff",
   "metadata": {
    "tags": []
   },
   "outputs": [],
   "source": [
    "Final_group.to_csv('./Final_group2.csv', index=False) ##save the data to a csv file "
   ]
  },
  {
   "cell_type": "code",
   "execution_count": 16,
   "id": "62d35110",
   "metadata": {},
   "outputs": [],
   "source": []
  }
 ],
 "metadata": {
  "kernelspec": {
   "display_name": "Python 3",
   "language": "python",
   "name": "python3"
  },
  "language_info": {
   "codemirror_mode": {
    "name": "ipython",
    "version": 3
   },
   "file_extension": ".py",
   "mimetype": "text/x-python",
   "name": "python",
   "nbconvert_exporter": "python",
   "pygments_lexer": "ipython3",
   "version": "3.8.8"
  }
 },
 "nbformat": 4,
 "nbformat_minor": 5
}
